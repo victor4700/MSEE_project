{
 "cells": [
  {
   "cell_type": "markdown",
   "metadata": {},
   "source": [
    "# MNIST Hand-Written Dataset Training & Adjustments to FPGA"
   ]
  },
  {
   "cell_type": "code",
   "execution_count": 1,
   "metadata": {},
   "outputs": [],
   "source": [
    "import tensorflow as tf\n",
    "import functools\n",
    "import numpy as np\n",
    "import sys\n",
    "from tensorflow.keras.layers import Dense\n",
    "from tensorflow.keras.models import Sequential\n",
    "\n",
    "from keras.datasets import mnist"
   ]
  },
  {
   "cell_type": "markdown",
   "metadata": {},
   "source": [
    "## This part is for weight generation --DO NOT RUN THE CELLS BELOW IF YOU HAVE ALREADY RUN ONCE--"
   ]
  },
  {
   "cell_type": "code",
   "execution_count": 4,
   "metadata": {},
   "outputs": [
    {
     "name": "stdout",
     "output_type": "stream",
     "text": [
      "Train: X=(50000, 784), y=(50000,)\n",
      "Test: X=(10000, 784), y=(10000,)\n",
      "(10000, 784)\n",
      "(10000,)\n"
     ]
    }
   ],
   "source": [
    "#train_image_f = gzip.open(\"C:/Users/zzyzz/train_images.gz\", \"rb\")\n",
    "#train_image = train_image_f.read()\n",
    "#print(train_image.shape)\n",
    "\n",
    "#Load data from MNIST dataset\n",
    "(trainX, trainy), (testX, testy) = mnist.load_data()\n",
    "(train1X, train1Y), (test1X, test1Y)= mnist.load_data()\n",
    "#Reshape and noemalize the training and test set images\n",
    "trainX = trainX.reshape(60000, 784).astype(\"float32\") / 255\n",
    "testX = testX.reshape(10000, 784).astype(\"float32\") / 255\n",
    "trainy = trainy.astype(\"float32\")\n",
    "testy = testy.astype(\"float32\")\n",
    "\n",
    "# Reserve 10,000 samples for validation\n",
    "valX = trainX[-10000:]\n",
    "valy = trainy[-10000:]\n",
    "trainX = trainX[:-10000]\n",
    "trainy = trainy[:-10000]\n",
    "\n",
    "\n",
    "# summarize loaded dataset\n",
    "print('Train: X=%s, y=%s' % (trainX.shape, trainy.shape))\n",
    "print('Test: X=%s, y=%s' % (testX.shape, testy.shape))\n",
    "print(valX.shape)\n",
    "print(valy.shape)"
   ]
  },
  {
   "cell_type": "code",
   "execution_count": 5,
   "metadata": {},
   "outputs": [],
   "source": [
    "hiddel_size = 64\n",
    "output_size = 10\n",
    "\n",
    "inputs = tf.keras.layers.Input(shape=(784,), name=\"digits\")\n",
    "hidden = tf.keras.layers.Dense(64, activation=\"relu\", name=\"dense_1\")(inputs)\n",
    "#x = layers.Dense(64, activation=\"relu\", name=\"dense_2\")(x)\n",
    "outputs = tf.keras.layers.Dense(10, activation=\"softmax\", name=\"predictions\")(hidden)\n",
    "\n",
    "model = tf.keras.Model(inputs=inputs, outputs=outputs)\n"
   ]
  },
  {
   "cell_type": "code",
   "execution_count": 6,
   "metadata": {},
   "outputs": [
    {
     "name": "stdout",
     "output_type": "stream",
     "text": [
      "Model: \"functional_3\"\n",
      "_________________________________________________________________\n",
      "Layer (type)                 Output Shape              Param #   \n",
      "=================================================================\n",
      "digits (InputLayer)          [(None, 784)]             0         \n",
      "_________________________________________________________________\n",
      "dense_1 (Dense)              (None, 64)                50240     \n",
      "_________________________________________________________________\n",
      "predictions (Dense)          (None, 10)                650       \n",
      "=================================================================\n",
      "Total params: 50,890\n",
      "Trainable params: 50,890\n",
      "Non-trainable params: 0\n",
      "_________________________________________________________________\n"
     ]
    }
   ],
   "source": [
    "model.compile(optimizer='adam', loss='sparse_categorical_crossentropy', metrics=['accuracy'])\n",
    "model.summary()"
   ]
  },
  {
   "cell_type": "code",
   "execution_count": 7,
   "metadata": {},
   "outputs": [
    {
     "name": "stdout",
     "output_type": "stream",
     "text": [
      "Fit model on training data\n",
      "Epoch 1/10\n",
      "391/391 [==============================] - 0s 883us/step - loss: 0.4569 - accuracy: 0.8746 - val_loss: 0.2467 - val_accuracy: 0.9332\n",
      "Epoch 2/10\n",
      "391/391 [==============================] - 0s 635us/step - loss: 0.2353 - accuracy: 0.9331 - val_loss: 0.1948 - val_accuracy: 0.9489\n",
      "Epoch 3/10\n",
      "391/391 [==============================] - 0s 629us/step - loss: 0.1861 - accuracy: 0.9463 - val_loss: 0.1614 - val_accuracy: 0.9554\n",
      "Epoch 4/10\n",
      "391/391 [==============================] - 0s 642us/step - loss: 0.1522 - accuracy: 0.9562 - val_loss: 0.1487 - val_accuracy: 0.9578\n",
      "Epoch 5/10\n",
      "391/391 [==============================] - 0s 624us/step - loss: 0.1299 - accuracy: 0.9629 - val_loss: 0.1294 - val_accuracy: 0.9644\n",
      "Epoch 6/10\n",
      "391/391 [==============================] - 0s 625us/step - loss: 0.1122 - accuracy: 0.9678 - val_loss: 0.1211 - val_accuracy: 0.9660\n",
      "Epoch 7/10\n",
      "391/391 [==============================] - 0s 623us/step - loss: 0.0985 - accuracy: 0.9713 - val_loss: 0.1166 - val_accuracy: 0.9664\n",
      "Epoch 8/10\n",
      "391/391 [==============================] - 0s 630us/step - loss: 0.0876 - accuracy: 0.9746 - val_loss: 0.1066 - val_accuracy: 0.9699\n",
      "Epoch 9/10\n",
      "391/391 [==============================] - 0s 624us/step - loss: 0.0775 - accuracy: 0.9773 - val_loss: 0.1054 - val_accuracy: 0.9699\n",
      "Epoch 10/10\n",
      "391/391 [==============================] - 0s 626us/step - loss: 0.0707 - accuracy: 0.9794 - val_loss: 0.1013 - val_accuracy: 0.9720\n"
     ]
    }
   ],
   "source": [
    "num_epoch = 10\n",
    "num_batch = 128\n",
    "\n",
    "print(\"Fit model on training data\")\n",
    "history = model.fit(\n",
    "    trainX,\n",
    "    trainy,\n",
    "    batch_size=num_batch,\n",
    "    epochs=num_epoch,\n",
    "    validation_data=(valX, valy),\n",
    ")"
   ]
  },
  {
   "cell_type": "code",
   "execution_count": 8,
   "metadata": {},
   "outputs": [
    {
     "name": "stdout",
     "output_type": "stream",
     "text": [
      "79/79 [==============================] - 0s 398us/step - loss: 0.1001 - accuracy: 0.9708\n"
     ]
    }
   ],
   "source": [
    "results = model.evaluate(testX, testy, batch_size=128)\n",
    "predictions = model.predict(testX[:3])"
   ]
  },
  {
   "cell_type": "markdown",
   "metadata": {},
   "source": [
    "## Result Extraction"
   ]
  },
  {
   "cell_type": "code",
   "execution_count": 9,
   "metadata": {},
   "outputs": [
    {
     "name": "stdout",
     "output_type": "stream",
     "text": [
      "w1: shape\n",
      "(784, 64)\n",
      "w2: shape\n",
      "(64, 10)\n"
     ]
    }
   ],
   "source": [
    "w1 = model.layers[1].get_weights()[0]\n",
    "w2 = model.layers[2].get_weights()[0]\n",
    "print(\"w1: shape\")\n",
    "print(w1.shape)\n",
    "print(\"w2: shape\")\n",
    "print(w2.shape)"
   ]
  },
  {
   "cell_type": "code",
   "execution_count": 15,
   "metadata": {},
   "outputs": [],
   "source": [
    "#write weights into files\n",
    "np.set_printoptions(threshold=sys.maxsize)\n",
    "np.set_printoptions(suppress=True)\n",
    "f = open(\"weight1.txt\", \"w\")\n",
    "f.write(\"w1: shape\\n\")\n",
    "f.write(str(w1.shape))\n",
    "f.write(\"\\n\")\n",
    "f.write(str(w1))\n",
    "f.write(\"\\n\\n\")\n",
    "f.close()\n",
    "f = open(\"weight2.txt\", \"w\")\n",
    "f.write(\"w2: shape\\n\")\n",
    "f.write(str(w2.shape))\n",
    "f.write(\"\\n\\n\")\n",
    "f.write(str(w2))\n",
    "f.close()\n",
    "\n",
    "np.set_printoptions(threshold=None)"
   ]
  },
  {
   "cell_type": "code",
   "execution_count": 16,
   "metadata": {},
   "outputs": [],
   "source": [
    "\n",
    "\n",
    "\n",
    "#w1h = float_to_hex(w1)\n",
    "#w2h = float_to_hex(w2)"
   ]
  },
  {
   "cell_type": "markdown",
   "metadata": {},
   "source": [
    "## Result Verification"
   ]
  },
  {
   "cell_type": "code",
   "execution_count": 17,
   "metadata": {},
   "outputs": [],
   "source": [
    "def softmax(x):\n",
    "    \"\"\"Compute softmax values for each sets of scores in x.\"\"\"\n",
    "    e_x = np.exp(x - np.max(x))\n",
    "    return e_x / e_x.sum()\n",
    "def relu(X):\n",
    "    return np.maximum(0,X)"
   ]
  },
  {
   "cell_type": "code",
   "execution_count": 18,
   "metadata": {},
   "outputs": [],
   "source": [
    "import matplotlib.pyplot as plt"
   ]
  },
  {
   "cell_type": "code",
   "execution_count": 19,
   "metadata": {},
   "outputs": [
    {
     "name": "stdout",
     "output_type": "stream",
     "text": [
      "3\n"
     ]
    },
    {
     "data": {
      "image/png": "[encoded data removed]",
      "text/plain": [
       "<Figure size 360x360 with 1 Axes>"
      ]
     },
     "metadata": {
      "needs_background": "light"
     },
     "output_type": "display_data"
    }
   ],
   "source": [
    "#test1X=data, test1Y=label\n",
    "plt.figure(figsize=(5, 5))\n",
    "\n",
    "index = 5000 # index from 0 to 9999\n",
    "\n",
    "(test_img, test_label) = (test1X[index].astype(\"float32\") / 255, test1Y[index])\n",
    "plt.imshow(test_img, interpolation='nearest', cmap=plt.get_cmap('gray'))\n",
    "print(test_label)"
   ]
  },
  {
   "cell_type": "code",
   "execution_count": 20,
   "metadata": {},
   "outputs": [
    {
     "name": "stdout",
     "output_type": "stream",
     "text": [
      "(784,)\n",
      "(784, 64)\n"
     ]
    }
   ],
   "source": [
    "test_img = test_img.reshape(784)\n",
    "print(test_img.shape)\n",
    "print(w1.shape)"
   ]
  },
  {
   "cell_type": "code",
   "execution_count": 21,
   "metadata": {},
   "outputs": [
    {
     "name": "stdout",
     "output_type": "stream",
     "text": [
      "(64,)\n",
      "[0.00000253 0.0000018  0.00000237 0.99949    0.00002136 0.00010635\n",
      " 0.00000002 0.00000414 0.00025353 0.00011789]\n",
      "3\n"
     ]
    }
   ],
   "source": [
    "test_hidden = np.dot(test_img, w1)\n",
    "test_hidden = relu(test_hidden)\n",
    "print(test_hidden.shape)\n",
    "test_out = np.dot(test_hidden, w2)\n",
    "test_out = softmax(test_out)\n",
    "print(test_out)\n",
    "print(np.argmax(test_out, 0))"
   ]
  },
  {
   "cell_type": "code",
   "execution_count": 22,
   "metadata": {},
   "outputs": [],
   "source": [
    "def mat_mul(A, B):\n",
    "    result = np.zeros(B.shape[1]) # final result\n",
    "    for i in range(B.shape[1]): #1-64 (B.shape[0]=784, B.shape[1]=64)\n",
    "        product = 0\n",
    "        for j in range(A.size): #1-784\n",
    "            product += A[j] * B[j][i]\n",
    "        result[i] = product\n",
    "    return(result)"
   ]
  },
  {
   "cell_type": "code",
   "execution_count": 23,
   "metadata": {},
   "outputs": [
    {
     "name": "stdout",
     "output_type": "stream",
     "text": [
      "64\n",
      "784\n"
     ]
    }
   ],
   "source": [
    "print(w1.shape[1])\n",
    "print(test_img.size)"
   ]
  },
  {
   "cell_type": "code",
   "execution_count": 24,
   "metadata": {},
   "outputs": [
    {
     "name": "stdout",
     "output_type": "stream",
     "text": [
      "(784,)\n",
      "(64,)\n",
      "[0.00000253 0.0000018  0.00000237 0.99949    0.00002136 0.00010635\n",
      " 0.00000002 0.00000414 0.00025353 0.00011789]\n",
      "3\n"
     ]
    }
   ],
   "source": [
    "print(test_img.shape)\n",
    "test_hidden = mat_mul(test_img, w1)\n",
    "test_hidden = relu(test_hidden)\n",
    "print(test_hidden.shape)\n",
    "test_out = mat_mul(test_hidden, w2)\n",
    "test_out = softmax(test_out)\n",
    "print(test_out)\n",
    "print(np.argmax(test_out, 0))"
   ]
  },
  {
   "cell_type": "code",
   "execution_count": 25,
   "metadata": {},
   "outputs": [
    {
     "name": "stdout",
     "output_type": "stream",
     "text": [
      "(784,)\n",
      "(784, 64)\n"
     ]
    }
   ],
   "source": [
    "print(test_img.shape)\n",
    "print(w1.shape)\n"
   ]
  },
  {
   "cell_type": "markdown",
   "metadata": {},
   "source": [
    "## Save the Result as Binary File"
   ]
  },
  {
   "cell_type": "markdown",
   "metadata": {},
   "source": [
    "Already done it. Don't run again."
   ]
  },
  {
   "cell_type": "code",
   "execution_count": 26,
   "metadata": {},
   "outputs": [],
   "source": [
    "#save as binary file\n",
    "w1b = bytearray(w1)\n",
    "w2b = bytearray(w2)\n",
    "f = open(\"weight1.bin\", \"wb\")\n",
    "f.write(w1b)\n",
    "f.close()\n",
    "f = open(\"weight2.bin\", \"wb\")\n",
    "f.write(w2b)\n",
    "f.close()"
   ]
  },
  {
   "cell_type": "markdown",
   "metadata": {},
   "source": [
    "Read Test"
   ]
  },
  {
   "cell_type": "code",
   "execution_count": 28,
   "metadata": {},
   "outputs": [],
   "source": [
    "import struct\n",
    "from array import array\n",
    "import os"
   ]
  },
  {
   "cell_type": "code",
   "execution_count": 29,
   "metadata": {},
   "outputs": [
    {
     "data": {
      "text/plain": [
       "200704"
      ]
     },
     "execution_count": 29,
     "metadata": {},
     "output_type": "execute_result"
    }
   ],
   "source": [
    "os.path.getsize('weight1.bin')"
   ]
  },
  {
   "cell_type": "code",
   "execution_count": 31,
   "metadata": {},
   "outputs": [],
   "source": [
    "np.savetxt('weight1.dat', w1, fmt = '%.10f')\n",
    "np.savetxt('weight2.dat', w2, fmt = '%.10f')"
   ]
  },
  {
   "cell_type": "markdown",
   "metadata": {},
   "source": [
    "# Write the data in hex format"
   ]
  },
  {
   "cell_type": "code",
   "execution_count": 62,
   "metadata": {},
   "outputs": [
    {
     "name": "stdout",
     "output_type": "stream",
     "text": [
      "1099694080\n"
     ]
    }
   ],
   "source": [
    "def float_to_hex(f):\n",
    "    return int(struct.unpack('<I', struct.pack('<f', f))[0])\n",
    "print(float_to_hex(17.5)) #print float number in hex format without '0x'"
   ]
  },
  {
   "cell_type": "code",
   "execution_count": 100,
   "metadata": {},
   "outputs": [],
   "source": [
    "# convert the floating point into int format\n",
    "w1_hex = np.zeros(w1.shape).astype(str)\n",
    "for i in range(w1.shape[0]):\n",
    "    for j in range(w1.shape[1]):\n",
    "        w1_hex[i][j] = format(float_to_hex(w1[i][j]),'x')\n",
    "w2_hex = np.zeros(w2.shape).astype(str)\n",
    "for i in range(w2.shape[0]):\n",
    "    for j in range(w2.shape[1]):\n",
    "        w2_hex[i][j] = format(float_to_hex(w2[i][j]),'x')\n",
    "#print(format(w1_hex[0][0],'x'))"
   ]
  },
  {
   "cell_type": "code",
   "execution_count": 85,
   "metadata": {},
   "outputs": [
    {
     "name": "stdout",
     "output_type": "stream",
     "text": [
      "(784, 64)\n",
      "(64, 10)\n"
     ]
    }
   ],
   "source": [
    "print(w1.shape)\n",
    "f = open(\"weight1_hex.dat\", \"w\")\n",
    "for i in range(w1.shape[0]):\n",
    "    for j in range(w1.shape[1]):\n",
    "        f.write(format(w1_hex[i][j],'x'))\n",
    "        f.write(\" \")\n",
    "    f.write(\"\\n\")\n",
    "f.write(\"\\n\")\n",
    "f.close()\n",
    "print(w2.shape)\n",
    "f = open(\"weight2_hex.dat\", \"w\")\n",
    "for i in range(w2.shape[0]):\n",
    "    for j in range(w2.shape[1]):\n",
    "        f.write(format(w2_hex[i][j],'x'))\n",
    "        f.write(\" \")\n",
    "    f.write(\"\\n\")\n",
    "f.write(\"\\n\")\n",
    "f.close()"
   ]
  },
  {
   "cell_type": "markdown",
   "metadata": {},
   "source": [
    "# Write the data into csv"
   ]
  },
  {
   "cell_type": "code",
   "execution_count": 101,
   "metadata": {},
   "outputs": [],
   "source": [
    "import pandas as pd\n",
    "\n",
    "df1 = pd.DataFrame(w1_hex)\n",
    "df1.to_csv('weight1_hex.csv')\n",
    "df2 = pd.DataFrame(w2_hex)\n",
    "df2.to_csv('weight2_hex.csv')\n",
    "df3 = pd.DataFrame(w1)\n",
    "df3.to_csv('weight1.csv')\n",
    "df4 = pd.DataFrame(w2)\n",
    "df4.to_csv('weight2.csv')"
   ]
  },
  {
   "cell_type": "code",
   "execution_count": null,
   "metadata": {},
   "outputs": [],
   "source": []
  }
 ],
 "metadata": {
  "kernelspec": {
   "display_name": "Python 3",
   "language": "python",
   "name": "python3"
  },
  "language_info": {
   "codemirror_mode": {
    "name": "ipython",
    "version": 3
   },
   "file_extension": ".py",
   "mimetype": "text/x-python",
   "name": "python",
   "nbconvert_exporter": "python",
   "pygments_lexer": "ipython3",
   "version": "3.8.5"
  }
 },
 "nbformat": 4,
 "nbformat_minor": 2
}
